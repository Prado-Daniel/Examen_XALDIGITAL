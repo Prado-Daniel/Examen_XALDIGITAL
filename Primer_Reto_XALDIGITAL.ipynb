{
  "nbformat": 4,
  "nbformat_minor": 0,
  "metadata": {
    "colab": {
      "provenance": []
    },
    "kernelspec": {
      "name": "python3",
      "display_name": "Python 3"
    },
    "language_info": {
      "name": "python"
    }
  },
  "cells": [
    {
      "cell_type": "code",
      "execution_count": 2,
      "metadata": {
        "colab": {
          "base_uri": "https://localhost:8080/"
        },
        "id": "LWzY20C0Ukky",
        "outputId": "b0261181-769f-45d1-b34d-e6d30350a098"
      },
      "outputs": [
        {
          "output_type": "stream",
          "name": "stdout",
          "text": [
            "<class 'dict'>\n"
          ]
        }
      ],
      "source": [
        "# Importar la libreria \n",
        "import json\n",
        "import requests\n",
        "from statistics import mean\n",
        "#1. Conectarse al enlace\n",
        "url = ('https://api.stackexchange.com/2.2/search?order=desc&sort=activity&intitle=perl&site=stackoverflow')\n",
        "response = requests.get(url).text\n",
        "\n",
        "# Convertir cadena de caracteres JSON a un diccionario\n",
        "objeto = json.loads(response)\n",
        "print(type(objeto))\n"
      ]
    },
    {
      "cell_type": "code",
      "source": [
        "#2. Obtener el número de respuestas contestadas y no contestadas\n",
        "contestadas = 0\n",
        "no_contestadas = 0\n",
        "\n",
        "#for x in objeto['items']:\n",
        "#    print(x['is_answered'])\n",
        "\n",
        "for x in objeto['items']:\n",
        "  if x['is_answered'] == True :\n",
        "    contestadas = contestadas + 1\n",
        "  else:\n",
        "    no_contestadas = no_contestadas + 1\n",
        "\n",
        "print(\"Numero de contestadas: \", contestadas)\n",
        "print(\"Numero de no contestadas: \",no_contestadas)\n"
      ],
      "metadata": {
        "id": "cQU6ag7xVCDi",
        "colab": {
          "base_uri": "https://localhost:8080/"
        },
        "outputId": "3875409c-b803-4328-c338-2b3baa161966"
      },
      "execution_count": 3,
      "outputs": [
        {
          "output_type": "stream",
          "name": "stdout",
          "text": [
            "Numero de contestadas:  26\n",
            "Numero de no contestadas:  4\n"
          ]
        }
      ]
    },
    {
      "cell_type": "code",
      "source": [
        "#3. Obtener la respuesta con menor número de vistas\n",
        "\n",
        "#lista_views = []\n",
        "\n",
        "#for x in objeto['items']:\n",
        "# lista_views.append(x['view_count'])\n",
        "\n",
        "#print(lista_views)\n",
        "#prom_lista_views = mean(lista_views)\n",
        "#print(prom_lista_views)\n",
        "\n",
        "#Iba a utilizar el promedio, pero debido a ser un promedio tan grande (12468.933333333332) decidi usar  menor a 1000 \n",
        "for x  in objeto['items']:\n",
        "  if x['view_count'] < 1000:\n",
        "    print(x['view_count'])\n"
      ],
      "metadata": {
        "id": "Fu7ID5brJc3Z",
        "colab": {
          "base_uri": "https://localhost:8080/"
        },
        "outputId": "4e61b541-f1f1-45d4-c4a8-8b84e9fa52c8"
      },
      "execution_count": 5,
      "outputs": [
        {
          "output_type": "stream",
          "name": "stdout",
          "text": [
            "176\n",
            "10\n",
            "46\n",
            "48\n",
            "95\n",
            "57\n",
            "46\n",
            "51\n",
            "46\n",
            "52\n",
            "34\n",
            "217\n",
            "328\n",
            "47\n",
            "76\n",
            "33\n",
            "37\n",
            "47\n",
            "91\n",
            "68\n"
          ]
        }
      ]
    },
    {
      "cell_type": "code",
      "source": [
        "#4. Obtener la respuesta más vieja y más actual\n",
        "\n",
        "lista_fecha = []\n",
        "for x in objeto['items']:\n",
        " lista_fecha.append(x['last_activity_date'])\n",
        "#len(lista_fecha)\n",
        "\n",
        "for x  in objeto['items']:\n",
        "    if x['last_activity_date'] == lista_fecha[0] :\n",
        "      print(x['last_activity_date'])\n",
        "    elif x['last_activity_date'] == lista_fecha[29]:\n",
        "      print(x['last_activity_date'])\n",
        "    "
      ],
      "metadata": {
        "colab": {
          "base_uri": "https://localhost:8080/"
        },
        "id": "ifnJJolYU--S",
        "outputId": "e99ceda9-37e9-4e7b-c039-1481d8dca84a"
      },
      "execution_count": 6,
      "outputs": [
        {
          "output_type": "stream",
          "name": "stdout",
          "text": [
            "1670825809\n",
            "1670523561\n"
          ]
        }
      ]
    },
    {
      "cell_type": "code",
      "source": [
        "#5. Obtener la respuesta del owner que tenga una mayor reputación\n",
        "lista_reputation = []\n",
        "\n",
        "for x in objeto['items']:\n",
        "  lista_reputation.append(x['owner']['reputation']) \n",
        "\n",
        "lista_reputation_ordenada = sorted(lista_reputation, reverse=True)\n",
        "lista_reputation_ordenada\n",
        "\n",
        "for x in objeto['items']:\n",
        "  if(x['owner']['reputation'] ==lista_reputation_ordenada[0]): \n",
        "    print(x['owner'])"
      ],
      "metadata": {
        "colab": {
          "base_uri": "https://localhost:8080/"
        },
        "id": "fa9xCx_aVWNh",
        "outputId": "f8573798-5cc2-44ba-ee50-d6b56ab07eee"
      },
      "execution_count": 7,
      "outputs": [
        {
          "output_type": "stream",
          "name": "stdout",
          "text": [
            "{'reputation': 263981, 'user_id': 65387, 'user_type': 'registered', 'accept_rate': 66, 'profile_image': 'https://www.gravatar.com/avatar/c0377fc1b08293d3362611978913a32b?s=256&d=identicon&r=PG', 'display_name': 'mpen', 'link': 'https://stackoverflow.com/users/65387/mpen'}\n"
          ]
        }
      ]
    },
    {
      "cell_type": "code",
      "source": [],
      "metadata": {
        "id": "cIbs07eyaepJ"
      },
      "execution_count": null,
      "outputs": []
    }
  ]
}